{
 "cells": [
  {
   "cell_type": "markdown",
   "id": "425d9da9-5724-4dd1-8430-6b8ea4d9cb71",
   "metadata": {},
   "source": [
    "# Práctica 1 URDF\n",
    "\n",
    "## Objetivo\n",
    "\n",
    "El objetivo de esta práctica es que el alumno comprenda, interprete y modifique la información básica de los formatos de Universal Robot Description File (URDF).\n",
    "\n",
    "\n",
    "### Metas \n",
    "\n",
    "- Que el alumno comprende el orden de los archivos que comprenden los espacios de trabajo (ws) y los paquetes que los integran en ROS 2.\n",
    "- Que el alumno comprenda la estructura básica de un archivo URDF.\n",
    "- Que el alumno sea capaz de mofificar la información básica de los archivos URDF para modificar la descripción de un robot serial.\n",
    "- Que el alumno conozca los elementos de los archivos \"launch\" en ROS 2.\n",
    "- Que el alumno sea capaz de vizualizar un robot descrito en un archivo URDF mediante la aplicación de RVIZ."
   ]
  },
  {
   "cell_type": "markdown",
   "id": "4d392cc9-9f13-45dd-aeab-49a3ef991dc5",
   "metadata": {},
   "source": [
    "## Previo\n",
    "\n",
    "<div style=\"text-align: justify;\">\n",
    "El formato URDF (Unified Robot Description Format) surgió ante la necesidad de estandarizar la descripción de un robot dentro del ecosistema de ROS (Robot Operating System). Dado que ROS es de código abierto, cualquier usuario puede utilizar un formato propio para describir su robot. No obstante, esto dificulta el intercambio de modelos, la compatibilidad entre plataformas de simulación y el desarrollo de controladores. El formato URDF es un DSML (Domain Specific Modeling Language) basado en XML (Extensible Markup Language) que permite codificar la cinemática, dinámica y otros metadatos de un robot en un formato que puede ser entendido y manejado tanto por seres humanos como por máquinas [1].</div>  \n",
    "&nbsp;\n",
    "<div style=\"text-align: justify;\">\n",
    "Para describir un robot en URDF, es necesario descomponerlo en eslabones (links) y juntas (joints). Los eslabones son partes del robot que pueden moverse de forma independiente, mientras que las juntas son elementos que permiten el movimiento relativo entre eslabones. Concretamente, las juntas establecen relaciones entre los sistemas de referencia de los eslabones para indicar su posición y orientación en el espacio. A excepción del eslabón base, todo eslabón tiene una junta que especifica a qué otro eslabón está conectado y cómo puede moverse conforme al tipo de junta [2]. En URDF, existen los siguientes tipos de juntas:</div>\n",
    "\n",
    "- Revolute: Permite la rotación alrededor de un eje en un rango definido.\n",
    "- Continuous: Permite la rotación alrededor de un eje (sin límites).\n",
    "- Prismatic: Permite el desplazamiento a lo largo de un eje en un rango definido.\n",
    "- Fixed: No permite ningún movimiento. Generalmente se utiliza para indicar puntos de montaje de sensores.\n",
    "- Floating: Permite el movimiento en 6 grados de libertad.\n",
    "- Planar: Permite el movimiento en el plano perpendicular a un eje.\n",
    "\n",
    "<div style=\"text-align: justify;\">\n",
    "En la mayoría de aplicaciones, no es necesario un modelo detallado del robot; basta con definir sus componentes escenciales. Por ello, se puede simplificar su descripción utilizando cuerpos geométricos básicos (elementos primitivos) como cajas, esferas, cilindros y conos. Estos elementos son, en conjunto, una abstracción del robot que permite representar sus eslabones, juntas, sensores, actuadores y controladores. Dicha abstracción ofrece muchas ventajas técnicas, entre ellas, que se reduce la carga computacional y se utilizan menos recursos para la simulación.</div>\n",
    "&nbsp;\n",
    "<div style=\"text-align: justify;\">\n",
    "Tanto en ROS 2 como en ROS 1, un nodo es un proceso que realiza cómputo al ejecutarse. Un nodo puede enviar o recibir información de otros nodos, así como usar u ofrecer servicios. Por lo general, el sistema de control de un robot se compone de diferentes módulos (nodos) que se encargan de tareas individuales como la adquisición de datos, la planificación del movimiento, el reconocimiento de objetos, etc. Cada nodo tiene asociado un nombre (identificador) y un archivo ejecutable (programa) en el sistema [3]. Un tópico es un canal de comunicación en el que uno o varios nodos publican datos, mientras que otros se suscriben para recibirlos. La comunicación por tópicos es anónima y unidireccional. Cuando se requieren llamadas a procedimientos remotos (RPC), en su lugar se utilizan servicios [4]. </div>\n",
    "&nbsp;\n",
    "<div style=\"text-align: justify;\">\n",
    "RViz (Robot Visualization) es un entorno de visualización tridimensional dentro del ecosistema de ROS. Este programa se desarrolló con la intención de facilitar la interpretación de los datos de cámaras y sensores, y conocer lo que el robot \"ve\", \"piensa\" y \"hace\". Mediante diferentes complementos (plugins), es posible visualizar el modelo de un robot, incluyendo las mallas y sistemas de referencia que lo componen. No se trata de una herramienta de diseño, pero permite modelar y programar un robot inexistente [5].</div>"
   ]
  },
  {
   "cell_type": "markdown",
   "id": "049700b1-1471-4b9c-b58d-5cd9efbd2fd6",
   "metadata": {},
   "source": [
    "## Desarrollo de la práctica \n",
    "\n",
    "El desarrollo de la práctica se realizó en dos partes:\n",
    "\n",
    "### Trabajo en clase\n",
    "\n",
    "<div style=\"text-align: justify;\">\n",
    "En clase, se terminó de configurar la máquina virtual desde la terminal, actualizando la base de datos de paquetes disponibles (update) e instalando las versiones más recientes de los paquetes ya instalados (upgrade). Posteriormente, se generó el espacio de trabajo de ROS para este semestre (robot_2025_ws) con sus respectivas carpetas. Primero se creó la carpeta source (src), y en su interior, una carpeta para la descripción de la primera práctica con las subcarpetas include, launch, rviz, src y urdf. En esta carpeta, se incluyeron los archivos CMakeList.txt y package.xml proporcionados, únicamente modificando la dirección de correo electrónico de quien gestiona las actualizaciones (maintainer) en este último. En Visual Studio Code, se generó el archivo de descripción (urdf) de un eslabón cuyo movimiento está restringido por una junta rotacional, y su respectivo archivo de configuración (launch.xml) para visualizar el modelo en RViz. Cada archivo se incluyó en su respectiva carpeta, y se utilizó colcon build a nivel del espacio de trabajo para generar el resto de carpetas. El espacio de trabajo, las carpetas y archivos generados se muestran en la terminal de la Figura 1.</div>\n",
    "&nbsp;\n",
    "<div style=\"text-align: center;\">\n",
    "  <img src=\"imagenes_p1/terminal.png\" width=\"600\"</img> \n",
    "</div>\n",
    "\n",
    "<div style=\"text-align: center;\">\n",
    "    Figura 1. Espacio de trabajo de ROS.\n",
    "</div>\n",
    "&nbsp;\n",
    "<div style=\"text-align: justify;\">\n",
    "La descripción de los eslabones en el archivo URDF desarrollado tiene la estructura mostrada en el Código 1. En link se especificó el nombre de cada eslabón, base_link o link_1 según correspondiera. Después, en el apartado visual se definió el origen (posición y orientación), la geometría (cajas) y el material (color). Las mismas propiedades de origen y geometría se establecieron en el apartado collision. Finalmente, en el apartado inertial se indicó su masa, origen (centro de masa) y momentos de inercia.</div>"
   ]
  },
  {
   "cell_type": "code",
   "execution_count": null,
   "id": "c68933ad-deae-47c1-9b1a-e18f39a4b1ee",
   "metadata": {},
   "outputs": [],
   "source": [
    "<link>\n",
    "    <visual>\n",
    "        <origin/>\n",
    "        <geometry/>\n",
    "        <material/>\n",
    "    </visual>\n",
    "    <collision>\n",
    "        <origin/>\n",
    "        <geometry/>\n",
    "    </collision>\n",
    "    <inertial>\n",
    "        <mass/>\n",
    "        <origin/>\n",
    "        <inertia/>\n",
    "    </inertial>\n",
    "</link>"
   ]
  },
  {
   "cell_type": "markdown",
   "id": "e138bdc5-437d-4a47-8414-e3cf1e8f298e",
   "metadata": {},
   "source": [
    "<div style=\"text-align: center;\">\n",
    "    Código 1. Descripción de los eslabones en el archivo URDF.\n",
    "</div>\n",
    "&nbsp;\n",
    "<div style=\"text-align: justify;\">\n",
    "Por su parte, la descripción de las juntas revolutas en el archivo URDF desarrollado tiene la estructura mostrada en el Código 2. En joint, además de indicar el nombre de la junta, se establece su tipo. Ahora bien, el eslabón que sirve como base es el parent, mientras que el móvil es el child. Por las características de la junta revoluta, se especificó el eje de rotación en axis y el rango de movimiento (radianes) en limit. El apartado origin sirve para definir la posición y orientación de la junta respecto al eslabón padre, motivo por el cuál se colocó en el extremo común a ambos eslabones.</div>"
   ]
  },
  {
   "cell_type": "code",
   "execution_count": null,
   "id": "cb455271-706f-48a0-bdc0-e3f2176f4785",
   "metadata": {},
   "outputs": [],
   "source": [
    "<joint>\n",
    "    <parent/>\n",
    "    <child/>\n",
    "    <axis/>\n",
    "    <limit/>\n",
    "    <origin/>   \n",
    "</joint>"
   ]
  },
  {
   "cell_type": "markdown",
   "id": "698040e5-f2f3-4303-8793-0bfa4f12bd2d",
   "metadata": {},
   "source": [
    "<div style=\"text-align: center;\">\n",
    "    Código 2. Descripción de las juntas revolutas en el archivo URDF.\n",
    "</div>\n",
    "\n",
    "### Trabajo complementario\n",
    "\n",
    "<div style=\"text-align: justify;\">\n",
    "Para la segunda parte de la práctica, se solicitó desarrollar la descripción de un eslabón adicional, con su respectiva junta prismática o revoluta. Dado que decidió implementar otro eslabón con junta revoluta, tan solo se requirió añadir dos estructuras más (Código 1 y Código 2), y especificar sus propiedades. Para visualizar el modelo, se ejecutaron en la terminal los comandos del Código 3 a nivel del espacio de trabajo.</div>"
   ]
  },
  {
   "cell_type": "code",
   "execution_count": null,
   "id": "e889a9a0-d991-4b02-88b4-5bface4c31b1",
   "metadata": {},
   "outputs": [],
   "source": [
    "colcon build\n",
    "source install/setup.bash\n",
    "ros2 launch practica1_description basic_link_display.launch.xml"
   ]
  },
  {
   "cell_type": "markdown",
   "id": "ef5ea36c-7959-44ef-bafb-f6fa52aeac17",
   "metadata": {},
   "source": [
    "<div style=\"text-align: center;\">\n",
    "    Código 3. Comandos en la terminal para la visualización del modelo en RViz.\n",
    "</div>"
   ]
  },
  {
   "attachments": {},
   "cell_type": "markdown",
   "id": "3a88c47d-d8a3-43cb-afee-5d54559450a7",
   "metadata": {},
   "source": [
    "## Resultados\n",
    "\n",
    "<div style=\"text-align: justify;\">\n",
    "Tras incluir 3 eslabones y 2 juntas revolutas en la descripción de la práctica 1, se ejecutó la secuencia de comandos del Código 3 para su visualización en RViz. Una vez en RViz, se corroboró la disposición de los elementos, y el movimiento relativo de los eslabones link_1 y link_2 mediante el Joint State Publisher.</div>\n",
    "\n",
    "### Video evidencia\n",
    "\n",
    "<div style=\"text-align: justify;\">\n",
    "En el video, se abre la terminal de la máquina virtual, y tras una pequeña introducción, se accede al espacio de trabajo y se lanza el modelo en RViz. Posteriormente, se utiliza el Joint State Publisher para mover los eslabones con los controles de las juntas.</div>\n",
    "&nbsp;\n",
    "<div style=\"text-align: center;\">\n",
    "  <a href=\"https://www.youtube.com/watch?v=b9xq-dz4hK0\" target=\"_blank\">\n",
    "    <img src=\"https://img.youtube.com/vi/b9xq-dz4hK0/maxresdefault.jpg\" style=\"width:50%\"/>\n",
    "  </a>\n",
    "</div>"
   ]
  },
  {
   "cell_type": "markdown",
   "id": "ed674101-3cbf-4c0e-b0cc-dcddfb09fba5",
   "metadata": {},
   "source": [
    "## Conclusiones\n",
    "\n",
    "<div style=\"text-align: justify;\">\n",
    "Retomando el objetivo y las metas de la práctica, puedo afirmar que tras desarrollar las actividades propuestas he comprendido los elementos que integran un espacio de trabajo en ROS 2, la estructura de la descripción de eslabones y juntas rotacionales en URDF, y la función del archivo de configuración launch.xml para su visualización. El trabajo complementario me permitió identificar los efectos de cada apartado de la descripción a partir de lo observado en RViz. Después de generar un eslabón y una junta adicionales, modifiqué los parámetros de origen (visual y collision) de los eslabones, así como los parámetros de las juntas, para posicionar y distribuir los elementos como en un manipulador serial. Dicho lo anterior, considero haber cumplido satisfactoriamente el objetivo y las metas de la práctica. </div>\n",
    "\n",
    "## Bibliografía \n",
    "\n",
    "<div style=\"text-align: justify;\">\n",
    "[1] G. van der Hoorn. (2021) ROS1x_2018_Week_2_2-1-1_URDF_Intoduction_Part_1-video. Accessed: 15/09/2024. [Online]. Available: https://www.youtube.com/watch?v=pT5iQaG9aVU</div>\n",
    "<div style=\"text-align: justify;\">\n",
    "[2] J. Newans. (2021) How do we describe a robot? With URDF! | Getting Ready to build Robots with ROS #7. Accessed: 15/09/2024. [Online]. Available: https://www.youtube.com/watch?v=CwdbsvcpOHM</div>\n",
    "<div style=\"text-align: justify;\">\n",
    "[3] ROS 2 Documentation. (2018) Nodes. Accessed: 16/09/2024. [Online]. Available: https://wiki.ros.org/Nodes</div>\n",
    "<div style=\"text-align: justify;\">\n",
    "[4] ROS 2 Documentation. (2019) Topics. Accessed: 16/09/2024. [Online]. Available: https://wiki.ros.org/Topics</div>\n",
    "<div style=\"text-align: justify;\">\n",
    "[5] M. Arteaga. (2020) ¿Qué es Rviz?, herramientas de visualización en 2D, 3D y descripción del entorno. Accessed: 16/09/2024. [Online]. Available: https://www.youtube.com/watch?v=vuFtDxPHp0Q</div>"
   ]
  }
 ],
 "metadata": {
  "kernelspec": {
   "display_name": "Python 3 (ipykernel)",
   "language": "python",
   "name": "python3"
  },
  "language_info": {
   "codemirror_mode": {
    "name": "ipython",
    "version": 3
   },
   "file_extension": ".py",
   "mimetype": "text/x-python",
   "name": "python",
   "nbconvert_exporter": "python",
   "pygments_lexer": "ipython3",
   "version": "3.10.12"
  }
 },
 "nbformat": 4,
 "nbformat_minor": 5
}
